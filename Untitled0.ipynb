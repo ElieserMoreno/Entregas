{
  "nbformat": 4,
  "nbformat_minor": 0,
  "metadata": {
    "colab": {
      "name": "Untitled0.ipynb",
      "provenance": [],
      "history_visible": true,
      "collapsed_sections": [],
      "authorship_tag": "ABX9TyOB6oF2fhKC9i05sKw4Siel",
      "include_colab_link": true
    },
    "kernelspec": {
      "name": "python3",
      "display_name": "Python 3"
    },
    "language_info": {
      "name": "python"
    }
  },
  "cells": [
    {
      "cell_type": "markdown",
      "metadata": {
        "id": "view-in-github",
        "colab_type": "text"
      },
      "source": [
        "<a href=\"https://colab.research.google.com/github/ElieserMoreno/Entregas/blob/master/Untitled0.ipynb\" target=\"_parent\"><img src=\"https://colab.research.google.com/assets/colab-badge.svg\" alt=\"Open In Colab\"/></a>"
      ]
    },
    {
      "cell_type": "code",
      "source": [
        "\n",
        "\n",
        "def May_de_arreglo(arreglo):\n",
        "    # Supongamos que el mayor es el primero solo para tener un valor para inicializar\n",
        "    May = arreglo[0]\n",
        "    # Recorrer y buscar\n",
        "    for elemento in arreglo:\n",
        "        if elemento > May:\n",
        "            May = elemento\n",
        "    return May\n",
        "\n",
        "arreglo = [0, -1, 4, 6000, 1, 2, 1400, -10, 90, 13, 7, 12, 500, 16]\n",
        "May = May_de_arreglo(arreglo)\n",
        "print(f\"Del arreglo {arreglo} el mayor es {May} \")"
      ],
      "metadata": {
        "id": "rSzTIOH0mVK-"
      },
      "execution_count": null,
      "outputs": []
    },
    {
      "cell_type": "code",
      "source": [
        "def menor_de_arreglo(arreglo):\n",
        "    menor = arreglo[0]\n",
        "    for elemento in arreglo:\n",
        "        if elemento < menor:\n",
        "            menor = elemento\n",
        "    return menor\n",
        "\n",
        "arreglo = [0, -1, 4, 6000, 1, 2, 1400, -10, 90, 13, 7, 12, 500, 16]\n",
        "menor = menor_de_arreglo(arreglo)\n",
        "print(f\"Del arreglo {arreglo} el menor es {menor}\")"
      ],
      "metadata": {
        "id": "LRnj3LrCn2EQ"
      },
      "execution_count": null,
      "outputs": []
    }
  ]
}